{
 "cells": [
  {
   "cell_type": "markdown",
   "metadata": {},
   "source": [
    "# Plan\n",
    "\n",
    "1. Scrape child urls from parent link\n",
    "2. Scrape text body, date and update history from child urls\n",
    "3. Get data of scrape\n",
    "4. Compare 2 and 3 to last LASTUPDATED in existing body\n",
    "5. If same, update LASTUPDATED, if not same add as new entry"
   ]
  },
  {
   "cell_type": "code",
   "execution_count": 1,
   "metadata": {},
   "outputs": [],
   "source": [
    "import requests\n",
    "from bs4 import BeautifulSoup"
   ]
  },
  {
   "cell_type": "code",
   "execution_count": 4,
   "metadata": {},
   "outputs": [],
   "source": [
    "url = 'https://www.gov.scot/publications/coronavirus-covid-19-local-measures/pages/'\n",
    "\n",
    "headers = {\n",
    "    'Access-Control-Allow-Origin': '*',\n",
    "    'Access-Control-Allow-Methods': 'GET',\n",
    "    'Access-Control-Allow-Headers': 'Content-Type',\n",
    "    'Access-Control-Max-Age': '3600',\n",
    "    'User-Agent': 'Mozilla/5.0 (X11; Ubuntu; Linux x86_64; rv:52.0) Gecko/20100101 Firefox/52.0'\n",
    "    }"
   ]
  },
  {
   "cell_type": "code",
   "execution_count": 5,
   "metadata": {},
   "outputs": [
    {
     "data": {
      "text/plain": [
       "['https://www.gov.scot/publications/coronavirus-covid-19-local-measures/pages/overview/',\n",
       " 'https://www.gov.scot/publications/coronavirus-covid-19-local-measures/pages/east-dunbartonshire/',\n",
       " 'https://www.gov.scot/publications/coronavirus-covid-19-local-measures/pages/east-renfrewshire/',\n",
       " 'https://www.gov.scot/publications/coronavirus-covid-19-local-measures/pages/glasgow/',\n",
       " 'https://www.gov.scot/publications/coronavirus-covid-19-local-measures/pages/north-lanarkshire/',\n",
       " 'https://www.gov.scot/publications/coronavirus-covid-19-local-measures/pages/renfrewshire/',\n",
       " 'https://www.gov.scot/publications/coronavirus-covid-19-local-measures/pages/south-lanarkshire/',\n",
       " 'https://www.gov.scot/publications/coronavirus-covid-19-local-measures/pages/west-dunbartonshire/',\n",
       " 'https://www.gov.scot/publications/coronavirus-covid-19-local-measures/pages/aberdeen/',\n",
       " 'https://www.gov.scot/publications/coronavirus-covid-19-local-measures/pages/england/']"
      ]
     },
     "execution_count": 5,
     "metadata": {},
     "output_type": "execute_result"
    }
   ],
   "source": [
    "urls=[]\n",
    "req = requests.get(url, headers)\n",
    "soup = BeautifulSoup(req.content, 'html.parser')\n",
    "#print(soup.prettify())\n",
    "#soup.find_all(\"a\")\n",
    "links = soup.find_all('a', {'class':'page-group__link'})\n",
    "for link in links :\n",
    "    urls.append('https://www.gov.scot' + link.get('href'))\n",
    "urls"
   ]
  },
  {
   "cell_type": "code",
   "execution_count": null,
   "metadata": {},
   "outputs": [],
   "source": []
  },
  {
   "cell_type": "code",
   "execution_count": 16,
   "metadata": {},
   "outputs": [],
   "source": [
    "for u in urls:\n",
    "    req = requests.get(u)\n",
    "    soup = BeautifulSoup(req.content, 'html.parser')\n",
    "    #print(soup.find_all('p'))\n",
    "    t = soup.find_all('div', {'class':'body-content publication-content js-content-wrapper inner-shadow-top  inner-shadow-top--no-desktop '})\n",
    "    for x in t:\n",
    "        print (x.get_text())"
   ]
  },
  {
   "cell_type": "code",
   "execution_count": 20,
   "metadata": {},
   "outputs": [
    {
     "ename": "AttributeError",
     "evalue": "ResultSet object has no attribute 'get'. You're probably treating a list of elements like a single element. Did you call find_all() when you meant to call find()?",
     "output_type": "error",
     "traceback": [
      "\u001b[0;31m---------------------------------------------------------------------------\u001b[0m",
      "\u001b[0;31mAttributeError\u001b[0m                            Traceback (most recent call last)",
      "\u001b[0;32m<ipython-input-20-5bd485beb751>\u001b[0m in \u001b[0;36m<module>\u001b[0;34m\u001b[0m\n\u001b[1;32m      4\u001b[0m     \u001b[0;32mfor\u001b[0m \u001b[0mx\u001b[0m \u001b[0;32min\u001b[0m \u001b[0msoup\u001b[0m\u001b[0;34m.\u001b[0m\u001b[0mfind_all\u001b[0m\u001b[0;34m(\u001b[0m\u001b[0;34m'ol'\u001b[0m\u001b[0;34m,\u001b[0m \u001b[0;34m{\u001b[0m\u001b[0;34m'class'\u001b[0m\u001b[0;34m:\u001b[0m\u001b[0;34m'history-list'\u001b[0m\u001b[0;34m}\u001b[0m\u001b[0;34m)\u001b[0m\u001b[0;34m:\u001b[0m\u001b[0;34m\u001b[0m\u001b[0;34m\u001b[0m\u001b[0m\n\u001b[1;32m      5\u001b[0m         \u001b[0;31m#print (x.get_text())\u001b[0m\u001b[0;34m\u001b[0m\u001b[0;34m\u001b[0m\u001b[0;34m\u001b[0m\u001b[0m\n\u001b[0;32m----> 6\u001b[0;31m         \u001b[0mprint\u001b[0m \u001b[0;34m(\u001b[0m\u001b[0mx\u001b[0m\u001b[0;34m.\u001b[0m\u001b[0mfind_all\u001b[0m\u001b[0;34m(\u001b[0m\u001b[0;34m'time'\u001b[0m\u001b[0;34m,\u001b[0m \u001b[0;34m{\u001b[0m\u001b[0;34m'class'\u001b[0m\u001b[0;34m:\u001b[0m\u001b[0;34m'history-list__date'\u001b[0m\u001b[0;34m}\u001b[0m\u001b[0;34m)\u001b[0m\u001b[0;34m.\u001b[0m\u001b[0mget\u001b[0m\u001b[0;34m(\u001b[0m\u001b[0mdatetime\u001b[0m\u001b[0;34m)\u001b[0m\u001b[0;34m)\u001b[0m\u001b[0;34m\u001b[0m\u001b[0;34m\u001b[0m\u001b[0m\n\u001b[0m",
      "\u001b[0;32m/opt/anaconda3/lib/python3.7/site-packages/bs4/element.py\u001b[0m in \u001b[0;36m__getattr__\u001b[0;34m(self, key)\u001b[0m\n\u001b[1;32m   2159\u001b[0m         \u001b[0;34m\"\"\"Raise a helpful exception to explain a common code fix.\"\"\"\u001b[0m\u001b[0;34m\u001b[0m\u001b[0;34m\u001b[0m\u001b[0m\n\u001b[1;32m   2160\u001b[0m         raise AttributeError(\n\u001b[0;32m-> 2161\u001b[0;31m             \u001b[0;34m\"ResultSet object has no attribute '%s'. You're probably treating a list of elements like a single element. Did you call find_all() when you meant to call find()?\"\u001b[0m \u001b[0;34m%\u001b[0m \u001b[0mkey\u001b[0m\u001b[0;34m\u001b[0m\u001b[0;34m\u001b[0m\u001b[0m\n\u001b[0m\u001b[1;32m   2162\u001b[0m         )\n",
      "\u001b[0;31mAttributeError\u001b[0m: ResultSet object has no attribute 'get'. You're probably treating a list of elements like a single element. Did you call find_all() when you meant to call find()?"
     ]
    }
   ],
   "source": [
    "for u in urls:\n",
    "    req = requests.get(u)\n",
    "    soup = BeautifulSoup(req.content, 'html.parser')\n",
    "    for x in soup.find_all('ol', {'class':'history-list'}):\n",
    "        #print (x.get_text())\n",
    "        print (x.find_all('time', {'class':'history-list__date'}).get(datetime))"
   ]
  },
  {
   "cell_type": "code",
   "execution_count": null,
   "metadata": {},
   "outputs": [],
   "source": [
    "<div class=\"body-content publication-content js-content-wrapper inner-shadow-top  inner-shadow-top--no-desktop \">\n",
    "<h2>Aberdeen</h2>\n",
    "\n",
    "<p style=\"margin-left:0cm; margin-right:0cm\"><span><span><span><span>Restrictions on travel, gatherings, and hospital and care home visits have now been lifted in Aberdeen City. People living in this area should now follow the general <a style=\"color:#0563c1; text-decoration:underline\" href=\"https://www.gov.scot/publications/coronavirus-covid-19-phase-3-staying-safe-and-protecting-others/\">staying safe guidance</a>.</span></span></span></span></p>\n",
    "\n",
    "<p style=\"margin-left:0cm; margin-right:0cm\"><span><span><span><span>Restaurants, pubs, casinos and other hospitality premises can re-open, <span>subject to an assurance check.</span> Hospitality business owners should get in touch with <a style=\"color:#0563c1; text-decoration:underline\" href=\"https://www.aberdeencity.gov.uk/\">Aberdeen City Council</a> if you have not already had an environmental health check.<span>&nbsp; Businesses who have not yet had their assessment can provisionally open so as long as they have actively engaged with Aberdeen City Council to make arrangements for a check to be made.</span></span></span></span></span></p>\n",
    "\n",
    "<p style=\"margin-left:0cm; margin-right:0cm\"><span><span><strong><span><span>Aberdeen Local Restrictions Business Support Fund</span></span></strong></span></span></p>\n",
    "\n",
    "<p style=\"margin-left:0cm; margin-right:0cm\"><span><span><span><span>If your hospitality business has been directly affected by the local restrictions in Aberdeen City, you may be able to claim a grant of up to £1,500.</span></span></span></span></p>\n",
    "\n",
    "<p style=\"margin-left:0cm; margin-right:0cm\"><span><span><span><span>Find out <a style=\"color:#0563c1; text-decoration:underline\" href=\"https://www.aberdeencity.gov.uk/services/coronavirus-covid-19/local-restrictions-business-support-fund\">more about the Aberdeen Local Restrictions Business Support Fund</a>.</span></span></span></span></p>                        </div>"
   ]
  },
  {
   "cell_type": "code",
   "execution_count": null,
   "metadata": {},
   "outputs": [],
   "source": [
    "for url in urls:\n",
    "    area = url.rsplit('/')[-1]\n",
    "    population = 0 # checker to reset population to 0 in case the scraper didn't work\n",
    "    \n",
    "    \n",
    "    r = requests.get(url)\n",
    "    soup =  BeautifulSoup(r.content,\"html.parser\")\n",
    "\n",
    "    rows = soup.find('table', {'class':'infobox geography vcard'}).find_all('tr')\n",
    "\n",
    "    for row in rows:\n",
    "        cells = row.find_all('th')\n",
    "        if cells and cells[0].get_text().startswith('Population'):\n",
    "            data_cells = row.find_all('td')\n",
    "            if not data_cells:\n",
    "                data_cells = row.next_sibling.find_all('td')\n",
    "            population = data_cells[0].get_text() \\\n",
    "                .split()[0].replace(',','') \\\n",
    "                .split('[')[0].replace(',','')\n",
    "            \n",
    "            if url == urls[0]:\n",
    "                sumpopulation = int(population)\n",
    "            else: \n",
    "                sumpopulation = sumpopulation + int(population)\n",
    "            \n",
    "            print (area, population)\n",
    "            \n",
    "print (\"Sum of population: \",sumpopulation)"
   ]
  },
  {
   "cell_type": "code",
   "execution_count": null,
   "metadata": {},
   "outputs": [],
   "source": []
  }
 ],
 "metadata": {
  "kernelspec": {
   "display_name": "Python 3",
   "language": "python",
   "name": "python3"
  },
  "language_info": {
   "codemirror_mode": {
    "name": "ipython",
    "version": 3
   },
   "file_extension": ".py",
   "mimetype": "text/x-python",
   "name": "python",
   "nbconvert_exporter": "python",
   "pygments_lexer": "ipython3",
   "version": "3.7.7"
  }
 },
 "nbformat": 4,
 "nbformat_minor": 4
}